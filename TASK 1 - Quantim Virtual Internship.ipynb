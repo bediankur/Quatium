{
 "cells": [
  {
   "cell_type": "markdown",
   "id": "cae0a445",
   "metadata": {},
   "source": [
    "## Quantium Virtual Internship - Retail strategy and Analytics - TASK 1\n",
    "\n",
    "####  Q:Understanding the types of customers that purchase chips?\n",
    "####  Q:Purchasing behaviour of customer segment?"
   ]
  },
  {
   "cell_type": "code",
   "execution_count": 2,
   "id": "7e242a2f",
   "metadata": {},
   "outputs": [],
   "source": [
    "#required libraries\n",
    "import pandas as pd \n",
    "import numpy as np\n",
    "import matplotlib.pyplot as plt\n",
    "import seaborn as sns\n",
    "\n",
    "#ignore warnings\n",
    "import warnings\n",
    "warnings.filterwarnings('ignore') "
   ]
  },
  {
   "cell_type": "code",
   "execution_count": 3,
   "id": "313b761d",
   "metadata": {},
   "outputs": [],
   "source": [
    "#plot settings\n",
    "sns.set_context('notebook') \n",
    "sns.set_style('ticks') \n",
    "colours = ['#4E79A7','#F28E2C','#E15759','#76B7B2','#59A14F', \n",
    "          '#EDC949','#AF7AA1','#FF9DA7','#9C755F','#BAB0AB']\n",
    "sns.set_palette(colours) \n",
    "%matplotlib inline\n",
    "\n",
    "\n",
    "\n"
   ]
  },
  {
   "cell_type": "markdown",
   "id": "4da6f3c5",
   "metadata": {},
   "source": [
    "## Data Preperation"
   ]
  },
  {
   "cell_type": "code",
   "execution_count": 4,
   "id": "5cb74567",
   "metadata": {},
   "outputs": [
    {
     "data": {
      "text/html": [
       "<div>\n",
       "<style scoped>\n",
       "    .dataframe tbody tr th:only-of-type {\n",
       "        vertical-align: middle;\n",
       "    }\n",
       "\n",
       "    .dataframe tbody tr th {\n",
       "        vertical-align: top;\n",
       "    }\n",
       "\n",
       "    .dataframe thead th {\n",
       "        text-align: right;\n",
       "    }\n",
       "</style>\n",
       "<table border=\"1\" class=\"dataframe\">\n",
       "  <thead>\n",
       "    <tr style=\"text-align: right;\">\n",
       "      <th></th>\n",
       "      <th>LYLTY_CARD_NBR</th>\n",
       "      <th>LIFESTAGE</th>\n",
       "      <th>PREMIUM_CUSTOMER</th>\n",
       "    </tr>\n",
       "  </thead>\n",
       "  <tbody>\n",
       "    <tr>\n",
       "      <th>0</th>\n",
       "      <td>1000</td>\n",
       "      <td>YOUNG SINGLES/COUPLES</td>\n",
       "      <td>Premium</td>\n",
       "    </tr>\n",
       "    <tr>\n",
       "      <th>1</th>\n",
       "      <td>1002</td>\n",
       "      <td>YOUNG SINGLES/COUPLES</td>\n",
       "      <td>Mainstream</td>\n",
       "    </tr>\n",
       "    <tr>\n",
       "      <th>2</th>\n",
       "      <td>1003</td>\n",
       "      <td>YOUNG FAMILIES</td>\n",
       "      <td>Budget</td>\n",
       "    </tr>\n",
       "    <tr>\n",
       "      <th>3</th>\n",
       "      <td>1004</td>\n",
       "      <td>OLDER SINGLES/COUPLES</td>\n",
       "      <td>Mainstream</td>\n",
       "    </tr>\n",
       "    <tr>\n",
       "      <th>4</th>\n",
       "      <td>1005</td>\n",
       "      <td>MIDAGE SINGLES/COUPLES</td>\n",
       "      <td>Mainstream</td>\n",
       "    </tr>\n",
       "  </tbody>\n",
       "</table>\n",
       "</div>"
      ],
      "text/plain": [
       "   LYLTY_CARD_NBR               LIFESTAGE PREMIUM_CUSTOMER\n",
       "0            1000   YOUNG SINGLES/COUPLES          Premium\n",
       "1            1002   YOUNG SINGLES/COUPLES       Mainstream\n",
       "2            1003          YOUNG FAMILIES           Budget\n",
       "3            1004   OLDER SINGLES/COUPLES       Mainstream\n",
       "4            1005  MIDAGE SINGLES/COUPLES       Mainstream"
      ]
     },
     "execution_count": 4,
     "metadata": {},
     "output_type": "execute_result"
    }
   ],
   "source": [
    "purchase_behaviour = pd.read_csv('QVI_purchase_behaviour.csv')\n",
    "purchase_behaviour.head()\n"
   ]
  },
  {
   "cell_type": "code",
   "execution_count": null,
   "id": "cac22a83",
   "metadata": {},
   "outputs": [],
   "source": [
    "transaction_data = pd.read_excel('QVI_transaction_data.xlsx')\n",
    "transaction_data"
   ]
  },
  {
   "cell_type": "markdown",
   "id": "3b1d4ff7",
   "metadata": {},
   "source": [
    "Changing the date format for transaction_data "
   ]
  },
  {
   "cell_type": "code",
   "execution_count": 6,
   "id": "40129c21",
   "metadata": {},
   "outputs": [],
   "source": [
    "#changing the date format here to it easier later \n",
    "date_offsets = transaction_data['DATE']\n",
    "base_date = pd.Timestamp('1899-12-30')  \n",
    "transaction_data['DATE'] = [\n",
    "    base_date + pd.DateOffset(date_offset) \n",
    "    for date_offset in date_offsets\n",
    "]\n"
   ]
  },
  {
   "cell_type": "code",
   "execution_count": 7,
   "id": "07f2286e",
   "metadata": {},
   "outputs": [
    {
     "data": {
      "text/html": [
       "<div>\n",
       "<style scoped>\n",
       "    .dataframe tbody tr th:only-of-type {\n",
       "        vertical-align: middle;\n",
       "    }\n",
       "\n",
       "    .dataframe tbody tr th {\n",
       "        vertical-align: top;\n",
       "    }\n",
       "\n",
       "    .dataframe thead th {\n",
       "        text-align: right;\n",
       "    }\n",
       "</style>\n",
       "<table border=\"1\" class=\"dataframe\">\n",
       "  <thead>\n",
       "    <tr style=\"text-align: right;\">\n",
       "      <th></th>\n",
       "      <th>DATE</th>\n",
       "      <th>STORE_NBR</th>\n",
       "      <th>LYLTY_CARD_NBR</th>\n",
       "      <th>TXN_ID</th>\n",
       "      <th>PROD_NBR</th>\n",
       "      <th>PROD_NAME</th>\n",
       "      <th>PROD_QTY</th>\n",
       "      <th>TOT_SALES</th>\n",
       "    </tr>\n",
       "  </thead>\n",
       "  <tbody>\n",
       "    <tr>\n",
       "      <th>0</th>\n",
       "      <td>2018-10-17</td>\n",
       "      <td>1</td>\n",
       "      <td>1000</td>\n",
       "      <td>1</td>\n",
       "      <td>5</td>\n",
       "      <td>Natural Chip        Compny SeaSalt175g</td>\n",
       "      <td>2</td>\n",
       "      <td>6.0</td>\n",
       "    </tr>\n",
       "    <tr>\n",
       "      <th>1</th>\n",
       "      <td>2019-05-14</td>\n",
       "      <td>1</td>\n",
       "      <td>1307</td>\n",
       "      <td>348</td>\n",
       "      <td>66</td>\n",
       "      <td>CCs Nacho Cheese    175g</td>\n",
       "      <td>3</td>\n",
       "      <td>6.3</td>\n",
       "    </tr>\n",
       "    <tr>\n",
       "      <th>2</th>\n",
       "      <td>2019-05-20</td>\n",
       "      <td>1</td>\n",
       "      <td>1343</td>\n",
       "      <td>383</td>\n",
       "      <td>61</td>\n",
       "      <td>Smiths Crinkle Cut  Chips Chicken 170g</td>\n",
       "      <td>2</td>\n",
       "      <td>2.9</td>\n",
       "    </tr>\n",
       "    <tr>\n",
       "      <th>3</th>\n",
       "      <td>2018-08-17</td>\n",
       "      <td>2</td>\n",
       "      <td>2373</td>\n",
       "      <td>974</td>\n",
       "      <td>69</td>\n",
       "      <td>Smiths Chip Thinly  S/Cream&amp;Onion 175g</td>\n",
       "      <td>5</td>\n",
       "      <td>15.0</td>\n",
       "    </tr>\n",
       "    <tr>\n",
       "      <th>4</th>\n",
       "      <td>2018-08-18</td>\n",
       "      <td>2</td>\n",
       "      <td>2426</td>\n",
       "      <td>1038</td>\n",
       "      <td>108</td>\n",
       "      <td>Kettle Tortilla ChpsHny&amp;Jlpno Chili 150g</td>\n",
       "      <td>3</td>\n",
       "      <td>13.8</td>\n",
       "    </tr>\n",
       "  </tbody>\n",
       "</table>\n",
       "</div>"
      ],
      "text/plain": [
       "        DATE  STORE_NBR  LYLTY_CARD_NBR  TXN_ID  PROD_NBR  \\\n",
       "0 2018-10-17          1            1000       1         5   \n",
       "1 2019-05-14          1            1307     348        66   \n",
       "2 2019-05-20          1            1343     383        61   \n",
       "3 2018-08-17          2            2373     974        69   \n",
       "4 2018-08-18          2            2426    1038       108   \n",
       "\n",
       "                                  PROD_NAME  PROD_QTY  TOT_SALES  \n",
       "0    Natural Chip        Compny SeaSalt175g         2        6.0  \n",
       "1                  CCs Nacho Cheese    175g         3        6.3  \n",
       "2    Smiths Crinkle Cut  Chips Chicken 170g         2        2.9  \n",
       "3    Smiths Chip Thinly  S/Cream&Onion 175g         5       15.0  \n",
       "4  Kettle Tortilla ChpsHny&Jlpno Chili 150g         3       13.8  "
      ]
     },
     "execution_count": 7,
     "metadata": {},
     "output_type": "execute_result"
    }
   ],
   "source": [
    "transaction_data.head()"
   ]
  },
  {
   "cell_type": "markdown",
   "id": "07157b2e",
   "metadata": {},
   "source": [
    "## Inspecting the Data"
   ]
  },
  {
   "cell_type": "code",
   "execution_count": 8,
   "id": "e7e90709",
   "metadata": {},
   "outputs": [
    {
     "name": "stdout",
     "output_type": "stream",
     "text": [
      "<class 'pandas.core.frame.DataFrame'>\n",
      "RangeIndex: 72637 entries, 0 to 72636\n",
      "Data columns (total 3 columns):\n",
      " #   Column            Non-Null Count  Dtype \n",
      "---  ------            --------------  ----- \n",
      " 0   LYLTY_CARD_NBR    72637 non-null  int64 \n",
      " 1   LIFESTAGE         72637 non-null  object\n",
      " 2   PREMIUM_CUSTOMER  72637 non-null  object\n",
      "dtypes: int64(1), object(2)\n",
      "memory usage: 1.7+ MB\n",
      "\n",
      " purchase_behaviour dataset has 72637 rows and 3 columns\n"
     ]
    }
   ],
   "source": [
    "purchase_behaviour.info()\n",
    "shape_pruchase = purchase_behaviour.shape\n",
    "print('\\n purchase_behaviour dataset has {} rows and {} columns'.format(shape_pruchase[0], shape_pruchase[1]))"
   ]
  },
  {
   "cell_type": "code",
   "execution_count": 9,
   "id": "f0b538bd",
   "metadata": {},
   "outputs": [
    {
     "name": "stdout",
     "output_type": "stream",
     "text": [
      "<class 'pandas.core.frame.DataFrame'>\n",
      "RangeIndex: 264836 entries, 0 to 264835\n",
      "Data columns (total 8 columns):\n",
      " #   Column          Non-Null Count   Dtype         \n",
      "---  ------          --------------   -----         \n",
      " 0   DATE            264836 non-null  datetime64[ns]\n",
      " 1   STORE_NBR       264836 non-null  int64         \n",
      " 2   LYLTY_CARD_NBR  264836 non-null  int64         \n",
      " 3   TXN_ID          264836 non-null  int64         \n",
      " 4   PROD_NBR        264836 non-null  int64         \n",
      " 5   PROD_NAME       264836 non-null  object        \n",
      " 6   PROD_QTY        264836 non-null  int64         \n",
      " 7   TOT_SALES       264836 non-null  float64       \n",
      "dtypes: datetime64[ns](1), float64(1), int64(5), object(1)\n",
      "memory usage: 16.2+ MB\n",
      "\n",
      " shape_transaction dataset has 264836 rows and 8 columns\n"
     ]
    }
   ],
   "source": [
    "transaction_data.info()\n",
    "shape_transaction = transaction_data.shape\n",
    "\n",
    "print('\\n shape_transaction dataset has {} rows and {} columns'.format(shape_transaction[0], shape_transaction[1]))\n",
    "\n"
   ]
  },
  {
   "cell_type": "code",
   "execution_count": 10,
   "id": "1a67188a",
   "metadata": {},
   "outputs": [
    {
     "data": {
      "text/html": [
       "<div>\n",
       "<style scoped>\n",
       "    .dataframe tbody tr th:only-of-type {\n",
       "        vertical-align: middle;\n",
       "    }\n",
       "\n",
       "    .dataframe tbody tr th {\n",
       "        vertical-align: top;\n",
       "    }\n",
       "\n",
       "    .dataframe thead th {\n",
       "        text-align: right;\n",
       "    }\n",
       "</style>\n",
       "<table border=\"1\" class=\"dataframe\">\n",
       "  <thead>\n",
       "    <tr style=\"text-align: right;\">\n",
       "      <th></th>\n",
       "      <th>STORE_NBR</th>\n",
       "      <th>LYLTY_CARD_NBR</th>\n",
       "      <th>TXN_ID</th>\n",
       "      <th>PROD_NBR</th>\n",
       "      <th>PROD_QTY</th>\n",
       "      <th>TOT_SALES</th>\n",
       "    </tr>\n",
       "  </thead>\n",
       "  <tbody>\n",
       "    <tr>\n",
       "      <th>count</th>\n",
       "      <td>264836.00000</td>\n",
       "      <td>2.648360e+05</td>\n",
       "      <td>2.648360e+05</td>\n",
       "      <td>264836.000000</td>\n",
       "      <td>264836.000000</td>\n",
       "      <td>264836.000000</td>\n",
       "    </tr>\n",
       "    <tr>\n",
       "      <th>mean</th>\n",
       "      <td>135.08011</td>\n",
       "      <td>1.355495e+05</td>\n",
       "      <td>1.351583e+05</td>\n",
       "      <td>56.583157</td>\n",
       "      <td>1.907309</td>\n",
       "      <td>7.304200</td>\n",
       "    </tr>\n",
       "    <tr>\n",
       "      <th>std</th>\n",
       "      <td>76.78418</td>\n",
       "      <td>8.057998e+04</td>\n",
       "      <td>7.813303e+04</td>\n",
       "      <td>32.826638</td>\n",
       "      <td>0.643654</td>\n",
       "      <td>3.083226</td>\n",
       "    </tr>\n",
       "    <tr>\n",
       "      <th>min</th>\n",
       "      <td>1.00000</td>\n",
       "      <td>1.000000e+03</td>\n",
       "      <td>1.000000e+00</td>\n",
       "      <td>1.000000</td>\n",
       "      <td>1.000000</td>\n",
       "      <td>1.500000</td>\n",
       "    </tr>\n",
       "    <tr>\n",
       "      <th>25%</th>\n",
       "      <td>70.00000</td>\n",
       "      <td>7.002100e+04</td>\n",
       "      <td>6.760150e+04</td>\n",
       "      <td>28.000000</td>\n",
       "      <td>2.000000</td>\n",
       "      <td>5.400000</td>\n",
       "    </tr>\n",
       "    <tr>\n",
       "      <th>50%</th>\n",
       "      <td>130.00000</td>\n",
       "      <td>1.303575e+05</td>\n",
       "      <td>1.351375e+05</td>\n",
       "      <td>56.000000</td>\n",
       "      <td>2.000000</td>\n",
       "      <td>7.400000</td>\n",
       "    </tr>\n",
       "    <tr>\n",
       "      <th>75%</th>\n",
       "      <td>203.00000</td>\n",
       "      <td>2.030942e+05</td>\n",
       "      <td>2.027012e+05</td>\n",
       "      <td>85.000000</td>\n",
       "      <td>2.000000</td>\n",
       "      <td>9.200000</td>\n",
       "    </tr>\n",
       "    <tr>\n",
       "      <th>max</th>\n",
       "      <td>272.00000</td>\n",
       "      <td>2.373711e+06</td>\n",
       "      <td>2.415841e+06</td>\n",
       "      <td>114.000000</td>\n",
       "      <td>200.000000</td>\n",
       "      <td>650.000000</td>\n",
       "    </tr>\n",
       "  </tbody>\n",
       "</table>\n",
       "</div>"
      ],
      "text/plain": [
       "          STORE_NBR  LYLTY_CARD_NBR        TXN_ID       PROD_NBR  \\\n",
       "count  264836.00000    2.648360e+05  2.648360e+05  264836.000000   \n",
       "mean      135.08011    1.355495e+05  1.351583e+05      56.583157   \n",
       "std        76.78418    8.057998e+04  7.813303e+04      32.826638   \n",
       "min         1.00000    1.000000e+03  1.000000e+00       1.000000   \n",
       "25%        70.00000    7.002100e+04  6.760150e+04      28.000000   \n",
       "50%       130.00000    1.303575e+05  1.351375e+05      56.000000   \n",
       "75%       203.00000    2.030942e+05  2.027012e+05      85.000000   \n",
       "max       272.00000    2.373711e+06  2.415841e+06     114.000000   \n",
       "\n",
       "            PROD_QTY      TOT_SALES  \n",
       "count  264836.000000  264836.000000  \n",
       "mean        1.907309       7.304200  \n",
       "std         0.643654       3.083226  \n",
       "min         1.000000       1.500000  \n",
       "25%         2.000000       5.400000  \n",
       "50%         2.000000       7.400000  \n",
       "75%         2.000000       9.200000  \n",
       "max       200.000000     650.000000  "
      ]
     },
     "execution_count": 10,
     "metadata": {},
     "output_type": "execute_result"
    }
   ],
   "source": [
    "transaction_data.describe()"
   ]
  },
  {
   "cell_type": "markdown",
   "id": "5af01702",
   "metadata": {},
   "source": [
    "## Exploratory Data Analysis"
   ]
  },
  {
   "cell_type": "markdown",
   "id": "1c271d29",
   "metadata": {},
   "source": [
    "### Univariate Analysis - purchase_behaviour Dataset"
   ]
  },
  {
   "cell_type": "code",
   "execution_count": 11,
   "id": "05435023",
   "metadata": {},
   "outputs": [
    {
     "name": "stdout",
     "output_type": "stream",
     "text": [
      "LYLTY_CARD_NBR has 72637 unique numbers, hence no duplicates\n"
     ]
    }
   ],
   "source": [
    "#checking any duplicate rows\n",
    "print('LYLTY_CARD_NBR has {} unique numbers, hence no duplicates'\n",
    "      .format (purchase_behaviour.value_counts('LYLTY_CARD_NBR').sum()))"
   ]
  },
  {
   "cell_type": "code",
   "execution_count": 12,
   "id": "b104d952",
   "metadata": {},
   "outputs": [
    {
     "data": {
      "text/plain": [
       "<AxesSubplot:>"
      ]
     },
     "execution_count": 12,
     "metadata": {},
     "output_type": "execute_result"
    },
    {
     "data": {
      "image/png": "[encoded data removed]",
      "text/plain": [
       "<Figure size 1440x720 with 1 Axes>"
      ]
     },
     "metadata": {
      "needs_background": "light"
     },
     "output_type": "display_data"
    }
   ],
   "source": [
    "# checking missing values\n",
    "fig, ax = plt.subplots(figsize=(20,10)) \n",
    "sns.heatmap(purchase_behaviour.isnull(),yticklabels = False, ax=ax, cbar=False)"
   ]
  },
  {
   "cell_type": "code",
   "execution_count": 13,
   "id": "c6a05339",
   "metadata": {},
   "outputs": [
    {
     "data": {
      "image/png": "[encoded data removed]",
      "text/plain": [
       "<Figure size 1584x720 with 1 Axes>"
      ]
     },
     "metadata": {
      "needs_background": "light"
     },
     "output_type": "display_data"
    }
   ],
   "source": [
    "plt.rcParams['figure.figsize'] = (22,10)\n",
    "sns.histplot(data=purchase_behaviour, x=purchase_behaviour['LIFESTAGE'], hue=\"LIFESTAGE\",legend=False)\n",
    "plt.title('LIFESTAGE',fontsize=20 )\n",
    "plt.show()\n",
    "\n"
   ]
  },
  {
   "cell_type": "code",
   "execution_count": 14,
   "id": "9dc7cfb9",
   "metadata": {},
   "outputs": [
    {
     "data": {
      "text/plain": [
       "RETIREES                  14805\n",
       "OLDER SINGLES/COUPLES     14609\n",
       "YOUNG SINGLES/COUPLES     14441\n",
       "OLDER FAMILIES             9780\n",
       "YOUNG FAMILIES             9178\n",
       "MIDAGE SINGLES/COUPLES     7275\n",
       "NEW FAMILIES               2549\n",
       "Name: LIFESTAGE, dtype: int64"
      ]
     },
     "execution_count": 14,
     "metadata": {},
     "output_type": "execute_result"
    }
   ],
   "source": [
    "purchase_behaviour['LIFESTAGE'].value_counts()"
   ]
  },
  {
   "cell_type": "code",
   "execution_count": 15,
   "id": "4d83fad0",
   "metadata": {},
   "outputs": [
    {
     "data": {
      "image/png": "[encoded data removed]",
      "text/plain": [
       "<Figure size 1440x720 with 1 Axes>"
      ]
     },
     "metadata": {
      "needs_background": "light"
     },
     "output_type": "display_data"
    }
   ],
   "source": [
    "plt.rcParams['figure.figsize'] = (20,10)\n",
    "sns.histplot(data=purchase_behaviour, x=purchase_behaviour['PREMIUM_CUSTOMER'], hue=\"PREMIUM_CUSTOMER\")\n",
    "plt.title('PREMIUM_CUSTOMER',fontsize=20 )\n",
    "plt.show()\n"
   ]
  },
  {
   "cell_type": "code",
   "execution_count": 16,
   "id": "6af7e950",
   "metadata": {},
   "outputs": [
    {
     "data": {
      "text/plain": [
       "Mainstream    29245\n",
       "Budget        24470\n",
       "Premium       18922\n",
       "Name: PREMIUM_CUSTOMER, dtype: int64"
      ]
     },
     "execution_count": 16,
     "metadata": {},
     "output_type": "execute_result"
    }
   ],
   "source": [
    "purchase_behaviour['PREMIUM_CUSTOMER'].value_counts()"
   ]
  },
  {
   "cell_type": "markdown",
   "id": "0c36dadf",
   "metadata": {},
   "source": [
    "__Key takeaways from purchase_behavior dataset univariate analysis:__\n",
    "\n",
    "- Retirees are the largest lifestage customer base. \n",
    "\n",
    "- There are a lot more singles/couples in their Lifestage than families.\n",
    "\n",
    "- Mainstream customer makes the largest customer category, followed by budget and Premium \n"
   ]
  },
  {
   "cell_type": "markdown",
   "id": "a3a59e78",
   "metadata": {},
   "source": [
    "### Univariate Analysis - transaction_data Dataset"
   ]
  },
  {
   "cell_type": "code",
   "execution_count": 17,
   "id": "7b2d201a",
   "metadata": {},
   "outputs": [
    {
     "name": "stdout",
     "output_type": "stream",
     "text": [
      "LYLTY_CARD_NBR has 264836 unique numbers, hence no duplicates\n"
     ]
    }
   ],
   "source": [
    "#checking any duplicate rows\n",
    "print('LYLTY_CARD_NBR has {} unique numbers, hence no duplicates'\n",
    "      .format (transaction_data.value_counts('DATE').sum()))"
   ]
  },
  {
   "cell_type": "code",
   "execution_count": 18,
   "id": "c9a1cbe4",
   "metadata": {},
   "outputs": [
    {
     "data": {
      "text/plain": [
       "86019"
      ]
     },
     "execution_count": 18,
     "metadata": {},
     "output_type": "execute_result"
    }
   ],
   "source": [
    "transaction_data.value_counts('DATE').unique().sum()"
   ]
  },
  {
   "cell_type": "markdown",
   "id": "604a7d18",
   "metadata": {},
   "source": [
    "#### Removing Salsa Products"
   ]
  },
  {
   "cell_type": "code",
   "execution_count": 19,
   "id": "dfcccd70",
   "metadata": {},
   "outputs": [
    {
     "name": "stdout",
     "output_type": "stream",
     "text": [
      "Natural Chip        Compny SeaSalt175g\n",
      "CCs Nacho Cheese    175g\n",
      "Smiths Crinkle Cut  Chips Chicken 170g\n",
      "Smiths Chip Thinly  S/Cream&Onion 175g\n",
      "Kettle Tortilla ChpsHny&Jlpno Chili 150g\n",
      "Old El Paso Salsa   Dip Tomato Mild 300g\n",
      "Smiths Crinkle Chips Salt & Vinegar 330g\n",
      "Grain Waves         Sweet Chilli 210g\n",
      "Doritos Corn Chip Mexican Jalapeno 150g\n",
      "Grain Waves Sour    Cream&Chives 210G\n",
      "Kettle Sensations   Siracha Lime 150g\n",
      "Twisties Cheese     270g\n",
      "WW Crinkle Cut      Chicken 175g\n",
      "Thins Chips Light&  Tangy 175g\n",
      "CCs Original 175g\n",
      "Burger Rings 220g\n",
      "NCC Sour Cream &    Garden Chives 175g\n",
      "Doritos Corn Chip Southern Chicken 150g\n",
      "Cheezels Cheese Box 125g\n",
      "Smiths Crinkle      Original 330g\n",
      "Infzns Crn Crnchers Tangy Gcamole 110g\n",
      "Kettle Sea Salt     And Vinegar 175g\n",
      "Smiths Chip Thinly  Cut Original 175g\n",
      "Kettle Original 175g\n",
      "Red Rock Deli Thai  Chilli&Lime 150g\n",
      "Pringles Sthrn FriedChicken 134g\n",
      "Pringles Sweet&Spcy BBQ 134g\n",
      "Red Rock Deli SR    Salsa & Mzzrlla 150g\n",
      "Thins Chips         Originl saltd 175g\n",
      "Red Rock Deli Sp    Salt & Truffle 150G\n",
      "Smiths Thinly       Swt Chli&S/Cream175G\n",
      "Kettle Chilli 175g\n",
      "Doritos Mexicana    170g\n",
      "Smiths Crinkle Cut  French OnionDip 150g\n",
      "Natural ChipCo      Hony Soy Chckn175g\n",
      "Dorito Corn Chp     Supreme 380g\n",
      "Twisties Chicken270g\n",
      "Smiths Thinly Cut   Roast Chicken 175g\n",
      "Smiths Crinkle Cut  Tomato Salsa 150g\n",
      "Kettle Mozzarella   Basil & Pesto 175g\n",
      "Infuzions Thai SweetChili PotatoMix 110g\n",
      "Kettle Sensations   Camembert & Fig 150g\n",
      "Smith Crinkle Cut   Mac N Cheese 150g\n",
      "Kettle Honey Soy    Chicken 175g\n",
      "Thins Chips Seasonedchicken 175g\n",
      "Smiths Crinkle Cut  Salt & Vinegar 170g\n",
      "Infuzions BBQ Rib   Prawn Crackers 110g\n",
      "GrnWves Plus Btroot & Chilli Jam 180g\n",
      "Tyrrells Crisps     Lightly Salted 165g\n",
      "Kettle Sweet Chilli And Sour Cream 175g\n",
      "Doritos Salsa       Medium 300g\n",
      "Kettle 135g Swt Pot Sea Salt\n",
      "Pringles SourCream  Onion 134g\n",
      "Doritos Corn Chips  Original 170g\n",
      "Twisties Cheese     Burger 250g\n",
      "Old El Paso Salsa   Dip Chnky Tom Ht300g\n",
      "Cobs Popd Swt/Chlli &Sr/Cream Chips 110g\n",
      "Woolworths Mild     Salsa 300g\n",
      "Natural Chip Co     Tmato Hrb&Spce 175g\n",
      "Smiths Crinkle Cut  Chips Original 170g\n",
      "Cobs Popd Sea Salt  Chips 110g\n",
      "Smiths Crinkle Cut  Chips Chs&Onion170g\n",
      "French Fries Potato Chips 175g\n",
      "Old El Paso Salsa   Dip Tomato Med 300g\n",
      "Doritos Corn Chips  Cheese Supreme 170g\n",
      "Pringles Original   Crisps 134g\n",
      "RRD Chilli&         Coconut 150g\n",
      "WW Original Corn    Chips 200g\n",
      "Thins Potato Chips  Hot & Spicy 175g\n",
      "Cobs Popd Sour Crm  &Chives Chips 110g\n",
      "Smiths Crnkle Chip  Orgnl Big Bag 380g\n",
      "Doritos Corn Chips  Nacho Cheese 170g\n",
      "Kettle Sensations   BBQ&Maple 150g\n",
      "WW D/Style Chip     Sea Salt 200g\n",
      "Pringles Chicken    Salt Crips 134g\n",
      "WW Original Stacked Chips 160g\n",
      "Smiths Chip Thinly  CutSalt/Vinegr175g\n",
      "Cheezels Cheese 330g\n",
      "Tostitos Lightly    Salted 175g\n",
      "Thins Chips Salt &  Vinegar 175g\n",
      "Smiths Crinkle Cut  Chips Barbecue 170g\n",
      "Cheetos Puffs 165g\n",
      "RRD Sweet Chilli &  Sour Cream 165g\n",
      "WW Crinkle Cut      Original 175g\n",
      "Tostitos Splash Of  Lime 175g\n",
      "Woolworths Medium   Salsa 300g\n",
      "Kettle Tortilla ChpsBtroot&Ricotta 150g\n",
      "CCs Tasty Cheese    175g\n",
      "Woolworths Cheese   Rings 190g\n",
      "Tostitos Smoked     Chipotle 175g\n",
      "Pringles Barbeque   134g\n",
      "WW Supreme Cheese   Corn Chips 200g\n",
      "Pringles Mystery    Flavour 134g\n",
      "Tyrrells Crisps     Ched & Chives 165g\n",
      "Snbts Whlgrn Crisps Cheddr&Mstrd 90g\n",
      "Cheetos Chs & Bacon Balls 190g\n",
      "Pringles Slt Vingar 134g\n",
      "Infuzions SourCream&Herbs Veg Strws 110g\n",
      "Kettle Tortilla ChpsFeta&Garlic 150g\n",
      "Infuzions Mango     Chutny Papadums 70g\n",
      "RRD Steak &         Chimuchurri 150g\n",
      "RRD Honey Soy       Chicken 165g\n",
      "Sunbites Whlegrn    Crisps Frch/Onin 90g\n",
      "RRD Salt & Vinegar  165g\n",
      "Doritos Cheese      Supreme 330g\n",
      "Smiths Crinkle Cut  Snag&Sauce 150g\n",
      "WW Sour Cream &OnionStacked Chips 160g\n",
      "RRD Lime & Pepper   165g\n",
      "Natural ChipCo Sea  Salt & Vinegr 175g\n",
      "Red Rock Deli Chikn&Garlic Aioli 150g\n",
      "RRD SR Slow Rst     Pork Belly 150g\n",
      "RRD Pc Sea Salt     165g\n",
      "Smith Crinkle Cut   Bolognese 150g\n",
      "Doritos Salsa Mild  300g\n"
     ]
    }
   ],
   "source": [
    "for i in transaction_data['PROD_NAME'].unique():\n",
    "    print(i)\n",
    "    \n",
    "#Even though Red Rock Deli SR    Salsa & Mzzrlla 150g says Salsa it is not a salsa \n",
    "#Similarly, Smiths Crinkle Cut  French OnionDip 150g says salsa it is not a salsa \n",
    "\n",
    "#Conversely, seperating salsa by weight might be a better option "
   ]
  },
  {
   "cell_type": "code",
   "execution_count": 20,
   "id": "5860ad0e",
   "metadata": {},
   "outputs": [],
   "source": [
    "#changing Kettle 135g Swt Pot Sea Salt description to Kettle Swt Pot Sea Salt 135g\n",
    "transaction_data.replace(['Kettle 135g Swt Pot Sea Salt'], 'Kettle Swt Pot Sea Salt 135g',inplace=True)"
   ]
  },
  {
   "cell_type": "code",
   "execution_count": 21,
   "id": "1e93daa1",
   "metadata": {},
   "outputs": [
    {
     "name": "stdout",
     "output_type": "stream",
     "text": [
      "There are 23200 rows with Salsa keyword in them, but as stated earlier they might contain some chips as well. All Salsas are 300g, it would be better to remove them based on weight\n"
     ]
    }
   ],
   "source": [
    "salsa = transaction_data['PROD_NAME'].str.contains(pat = 'S[a-z]a', regex = True)\n",
    "\n",
    "print('There are {} rows with Salsa keyword in them, but as stated earlier they might contain some chips as well. All Salsas are 300g, it would be better to remove them based on weight'\n",
    "      \n",
    "      .format(salsa.sum()))"
   ]
  },
  {
   "cell_type": "markdown",
   "id": "3bfa53de",
   "metadata": {},
   "source": [
    "#### Creating seperate weight and Brand "
   ]
  },
  {
   "cell_type": "code",
   "execution_count": 22,
   "id": "77e95128",
   "metadata": {},
   "outputs": [
    {
     "data": {
      "text/html": [
       "<div>\n",
       "<style scoped>\n",
       "    .dataframe tbody tr th:only-of-type {\n",
       "        vertical-align: middle;\n",
       "    }\n",
       "\n",
       "    .dataframe tbody tr th {\n",
       "        vertical-align: top;\n",
       "    }\n",
       "\n",
       "    .dataframe thead th {\n",
       "        text-align: right;\n",
       "    }\n",
       "</style>\n",
       "<table border=\"1\" class=\"dataframe\">\n",
       "  <thead>\n",
       "    <tr style=\"text-align: right;\">\n",
       "      <th></th>\n",
       "      <th>DATE</th>\n",
       "      <th>STORE_NBR</th>\n",
       "      <th>LYLTY_CARD_NBR</th>\n",
       "      <th>TXN_ID</th>\n",
       "      <th>PROD_NBR</th>\n",
       "      <th>PROD_NAME</th>\n",
       "      <th>PROD_QTY</th>\n",
       "      <th>TOT_SALES</th>\n",
       "      <th>WEIGHT</th>\n",
       "    </tr>\n",
       "  </thead>\n",
       "  <tbody>\n",
       "    <tr>\n",
       "      <th>0</th>\n",
       "      <td>2018-10-17</td>\n",
       "      <td>1</td>\n",
       "      <td>1000</td>\n",
       "      <td>1</td>\n",
       "      <td>5</td>\n",
       "      <td>Natural Chip        Compny SeaSalt175g</td>\n",
       "      <td>2</td>\n",
       "      <td>6.0</td>\n",
       "      <td>175</td>\n",
       "    </tr>\n",
       "    <tr>\n",
       "      <th>1</th>\n",
       "      <td>2019-05-14</td>\n",
       "      <td>1</td>\n",
       "      <td>1307</td>\n",
       "      <td>348</td>\n",
       "      <td>66</td>\n",
       "      <td>CCs Nacho Cheese    175g</td>\n",
       "      <td>3</td>\n",
       "      <td>6.3</td>\n",
       "      <td>175</td>\n",
       "    </tr>\n",
       "    <tr>\n",
       "      <th>2</th>\n",
       "      <td>2019-05-20</td>\n",
       "      <td>1</td>\n",
       "      <td>1343</td>\n",
       "      <td>383</td>\n",
       "      <td>61</td>\n",
       "      <td>Smiths Crinkle Cut  Chips Chicken 170g</td>\n",
       "      <td>2</td>\n",
       "      <td>2.9</td>\n",
       "      <td>170</td>\n",
       "    </tr>\n",
       "    <tr>\n",
       "      <th>3</th>\n",
       "      <td>2018-08-17</td>\n",
       "      <td>2</td>\n",
       "      <td>2373</td>\n",
       "      <td>974</td>\n",
       "      <td>69</td>\n",
       "      <td>Smiths Chip Thinly  S/Cream&amp;Onion 175g</td>\n",
       "      <td>5</td>\n",
       "      <td>15.0</td>\n",
       "      <td>175</td>\n",
       "    </tr>\n",
       "    <tr>\n",
       "      <th>4</th>\n",
       "      <td>2018-08-18</td>\n",
       "      <td>2</td>\n",
       "      <td>2426</td>\n",
       "      <td>1038</td>\n",
       "      <td>108</td>\n",
       "      <td>Kettle Tortilla ChpsHny&amp;Jlpno Chili 150g</td>\n",
       "      <td>3</td>\n",
       "      <td>13.8</td>\n",
       "      <td>150</td>\n",
       "    </tr>\n",
       "  </tbody>\n",
       "</table>\n",
       "</div>"
      ],
      "text/plain": [
       "        DATE  STORE_NBR  LYLTY_CARD_NBR  TXN_ID  PROD_NBR  \\\n",
       "0 2018-10-17          1            1000       1         5   \n",
       "1 2019-05-14          1            1307     348        66   \n",
       "2 2019-05-20          1            1343     383        61   \n",
       "3 2018-08-17          2            2373     974        69   \n",
       "4 2018-08-18          2            2426    1038       108   \n",
       "\n",
       "                                  PROD_NAME  PROD_QTY  TOT_SALES WEIGHT  \n",
       "0    Natural Chip        Compny SeaSalt175g         2        6.0    175  \n",
       "1                  CCs Nacho Cheese    175g         3        6.3    175  \n",
       "2    Smiths Crinkle Cut  Chips Chicken 170g         2        2.9    170  \n",
       "3    Smiths Chip Thinly  S/Cream&Onion 175g         5       15.0    175  \n",
       "4  Kettle Tortilla ChpsHny&Jlpno Chili 150g         3       13.8    150  "
      ]
     },
     "execution_count": 22,
     "metadata": {},
     "output_type": "execute_result"
    }
   ],
   "source": [
    "#Splitting Weight from PROD_NAME and storing them in a seperate variable\n",
    "transaction_data['WEIGHT'] = transaction_data['PROD_NAME'].str[-4:-1]\n",
    "transaction_data.head()"
   ]
  },
  {
   "cell_type": "code",
   "execution_count": 23,
   "id": "f1538596",
   "metadata": {},
   "outputs": [
    {
     "data": {
      "text/plain": [
       "array(['175', '170', '150', '300', '330', '210', '270', '220', '125',\n",
       "       '110', '134', '380', '180', '165', '135', '250', '200', '160',\n",
       "       '190', ' 90', ' 70'], dtype=object)"
      ]
     },
     "execution_count": 23,
     "metadata": {},
     "output_type": "execute_result"
    }
   ],
   "source": [
    "transaction_data['WEIGHT'].unique()"
   ]
  },
  {
   "cell_type": "code",
   "execution_count": 24,
   "id": "8830634d",
   "metadata": {},
   "outputs": [],
   "source": [
    "#Removing all salsas by weight\n",
    "customer_transaction = transaction_data[transaction_data[\"WEIGHT\"].str.contains(\"300\")==False]"
   ]
  },
  {
   "cell_type": "code",
   "execution_count": 25,
   "id": "8c8377ce",
   "metadata": {},
   "outputs": [
    {
     "data": {
      "text/plain": [
       "array(['175', '170', '150', '330', '210', '270', '220', '125', '110',\n",
       "       '134', '380', '180', '165', '135', '250', '200', '160', '190',\n",
       "       ' 90', ' 70'], dtype=object)"
      ]
     },
     "execution_count": 25,
     "metadata": {},
     "output_type": "execute_result"
    }
   ],
   "source": [
    "customer_transaction['WEIGHT'].unique()"
   ]
  },
  {
   "cell_type": "code",
   "execution_count": 26,
   "id": "ff0a9ca4",
   "metadata": {},
   "outputs": [
    {
     "data": {
      "text/html": [
       "<div>\n",
       "<style scoped>\n",
       "    .dataframe tbody tr th:only-of-type {\n",
       "        vertical-align: middle;\n",
       "    }\n",
       "\n",
       "    .dataframe tbody tr th {\n",
       "        vertical-align: top;\n",
       "    }\n",
       "\n",
       "    .dataframe thead th {\n",
       "        text-align: right;\n",
       "    }\n",
       "</style>\n",
       "<table border=\"1\" class=\"dataframe\">\n",
       "  <thead>\n",
       "    <tr style=\"text-align: right;\">\n",
       "      <th></th>\n",
       "      <th>DATE</th>\n",
       "      <th>STORE_NBR</th>\n",
       "      <th>LYLTY_CARD_NBR</th>\n",
       "      <th>TXN_ID</th>\n",
       "      <th>PROD_NBR</th>\n",
       "      <th>PROD_NAME</th>\n",
       "      <th>PROD_QTY</th>\n",
       "      <th>TOT_SALES</th>\n",
       "      <th>WEIGHT</th>\n",
       "      <th>BRAND</th>\n",
       "    </tr>\n",
       "  </thead>\n",
       "  <tbody>\n",
       "    <tr>\n",
       "      <th>0</th>\n",
       "      <td>2018-10-17</td>\n",
       "      <td>1</td>\n",
       "      <td>1000</td>\n",
       "      <td>1</td>\n",
       "      <td>5</td>\n",
       "      <td>Natural Chip        Compny SeaSalt175g</td>\n",
       "      <td>2</td>\n",
       "      <td>6.0</td>\n",
       "      <td>175</td>\n",
       "      <td>Natural</td>\n",
       "    </tr>\n",
       "    <tr>\n",
       "      <th>1</th>\n",
       "      <td>2019-05-14</td>\n",
       "      <td>1</td>\n",
       "      <td>1307</td>\n",
       "      <td>348</td>\n",
       "      <td>66</td>\n",
       "      <td>CCs Nacho Cheese    175g</td>\n",
       "      <td>3</td>\n",
       "      <td>6.3</td>\n",
       "      <td>175</td>\n",
       "      <td>CCs</td>\n",
       "    </tr>\n",
       "    <tr>\n",
       "      <th>2</th>\n",
       "      <td>2019-05-20</td>\n",
       "      <td>1</td>\n",
       "      <td>1343</td>\n",
       "      <td>383</td>\n",
       "      <td>61</td>\n",
       "      <td>Smiths Crinkle Cut  Chips Chicken 170g</td>\n",
       "      <td>2</td>\n",
       "      <td>2.9</td>\n",
       "      <td>170</td>\n",
       "      <td>Smiths</td>\n",
       "    </tr>\n",
       "    <tr>\n",
       "      <th>3</th>\n",
       "      <td>2018-08-17</td>\n",
       "      <td>2</td>\n",
       "      <td>2373</td>\n",
       "      <td>974</td>\n",
       "      <td>69</td>\n",
       "      <td>Smiths Chip Thinly  S/Cream&amp;Onion 175g</td>\n",
       "      <td>5</td>\n",
       "      <td>15.0</td>\n",
       "      <td>175</td>\n",
       "      <td>Smiths</td>\n",
       "    </tr>\n",
       "    <tr>\n",
       "      <th>4</th>\n",
       "      <td>2018-08-18</td>\n",
       "      <td>2</td>\n",
       "      <td>2426</td>\n",
       "      <td>1038</td>\n",
       "      <td>108</td>\n",
       "      <td>Kettle Tortilla ChpsHny&amp;Jlpno Chili 150g</td>\n",
       "      <td>3</td>\n",
       "      <td>13.8</td>\n",
       "      <td>150</td>\n",
       "      <td>Kettle</td>\n",
       "    </tr>\n",
       "  </tbody>\n",
       "</table>\n",
       "</div>"
      ],
      "text/plain": [
       "        DATE  STORE_NBR  LYLTY_CARD_NBR  TXN_ID  PROD_NBR  \\\n",
       "0 2018-10-17          1            1000       1         5   \n",
       "1 2019-05-14          1            1307     348        66   \n",
       "2 2019-05-20          1            1343     383        61   \n",
       "3 2018-08-17          2            2373     974        69   \n",
       "4 2018-08-18          2            2426    1038       108   \n",
       "\n",
       "                                  PROD_NAME  PROD_QTY  TOT_SALES WEIGHT  \\\n",
       "0    Natural Chip        Compny SeaSalt175g         2        6.0    175   \n",
       "1                  CCs Nacho Cheese    175g         3        6.3    175   \n",
       "2    Smiths Crinkle Cut  Chips Chicken 170g         2        2.9    170   \n",
       "3    Smiths Chip Thinly  S/Cream&Onion 175g         5       15.0    175   \n",
       "4  Kettle Tortilla ChpsHny&Jlpno Chili 150g         3       13.8    150   \n",
       "\n",
       "     BRAND  \n",
       "0  Natural  \n",
       "1      CCs  \n",
       "2   Smiths  \n",
       "3   Smiths  \n",
       "4   Kettle  "
      ]
     },
     "execution_count": 26,
     "metadata": {},
     "output_type": "execute_result"
    }
   ],
   "source": [
    "#Splitting Brand names from PROD_NAME and storing them in a seperate variable\n",
    "customer_transaction['BRAND'] = customer_transaction['PROD_NAME'].str.extract('([A-Z]\\w{0,})', expand=True)\n",
    "customer_transaction.head()"
   ]
  },
  {
   "cell_type": "markdown",
   "id": "911d3133",
   "metadata": {},
   "source": [
    "### Cleaning Brand Names"
   ]
  },
  {
   "cell_type": "code",
   "execution_count": 27,
   "id": "3f8db751",
   "metadata": {},
   "outputs": [
    {
     "data": {
      "text/plain": [
       "Kettle        41288\n",
       "Smiths        28860\n",
       "Pringles      25102\n",
       "Doritos       22041\n",
       "Thins         14075\n",
       "RRD           11894\n",
       "Infuzions     11057\n",
       "WW            10320\n",
       "Cobs           9693\n",
       "Tostitos       9471\n",
       "Twisties       9454\n",
       "Tyrrells       6442\n",
       "Grain          6272\n",
       "Natural        6050\n",
       "Red            5885\n",
       "Cheezels       4603\n",
       "CCs            4551\n",
       "Dorito         3185\n",
       "Infzns         3144\n",
       "Smith          2963\n",
       "Cheetos        2927\n",
       "Snbts          1576\n",
       "Burger         1564\n",
       "Woolworths     1516\n",
       "GrnWves        1468\n",
       "Sunbites       1432\n",
       "NCC            1419\n",
       "French         1418\n",
       "Name: BRAND, dtype: int64"
      ]
     },
     "execution_count": 27,
     "metadata": {},
     "output_type": "execute_result"
    }
   ],
   "source": [
    "customer_transaction['BRAND'].value_counts()\n",
    "#different keyword for the same brand, eg: infuzions and Infzns"
   ]
  },
  {
   "cell_type": "code",
   "execution_count": 28,
   "id": "04c45d84",
   "metadata": {},
   "outputs": [],
   "source": [
    "customer_transaction['BRAND'].replace('Red', 'RRD', inplace=True)\n",
    "customer_transaction['BRAND'].replace('Smith', 'Smiths', inplace=True)\n",
    "customer_transaction['BRAND'].replace('Infzns', 'Infuzions', inplace=True)\n",
    "customer_transaction['BRAND'].replace('Snbts', 'Sunbites', inplace=True)\n",
    "customer_transaction['BRAND'].replace('GrnWves', 'Grainwaves', inplace=True)\n",
    "customer_transaction['BRAND'].replace('Grain', 'Grainwaves', inplace=True)\n",
    "customer_transaction['BRAND'].replace('Natural', 'NCC', inplace=True)\n",
    "customer_transaction['BRAND'].replace('WW', 'Woolworths', inplace=True)\n",
    "customer_transaction['BRAND'].replace('Doritoes', 'Doritos', inplace=True)\n",
    "\n",
    "\n"
   ]
  },
  {
   "cell_type": "code",
   "execution_count": 29,
   "id": "ecd8a836",
   "metadata": {},
   "outputs": [
    {
     "data": {
      "text/plain": [
       "Kettle        41288\n",
       "Smiths        31823\n",
       "Pringles      25102\n",
       "Doritos       22041\n",
       "RRD           17779\n",
       "Infuzions     14201\n",
       "Thins         14075\n",
       "Woolworths    11836\n",
       "Cobs           9693\n",
       "Tostitos       9471\n",
       "Twisties       9454\n",
       "Grainwaves     7740\n",
       "NCC            7469\n",
       "Tyrrells       6442\n",
       "Cheezels       4603\n",
       "CCs            4551\n",
       "Dorito         3185\n",
       "Sunbites       3008\n",
       "Cheetos        2927\n",
       "Burger         1564\n",
       "French         1418\n",
       "Name: BRAND, dtype: int64"
      ]
     },
     "execution_count": 29,
     "metadata": {},
     "output_type": "execute_result"
    }
   ],
   "source": [
    "customer_transaction['BRAND'].value_counts()"
   ]
  },
  {
   "cell_type": "markdown",
   "id": "360d6b67",
   "metadata": {},
   "source": [
    "### Dropping outliers "
   ]
  },
  {
   "cell_type": "code",
   "execution_count": 30,
   "id": "3fec9772",
   "metadata": {},
   "outputs": [
    {
     "data": {
      "text/html": [
       "<div>\n",
       "<style scoped>\n",
       "    .dataframe tbody tr th:only-of-type {\n",
       "        vertical-align: middle;\n",
       "    }\n",
       "\n",
       "    .dataframe tbody tr th {\n",
       "        vertical-align: top;\n",
       "    }\n",
       "\n",
       "    .dataframe thead th {\n",
       "        text-align: right;\n",
       "    }\n",
       "</style>\n",
       "<table border=\"1\" class=\"dataframe\">\n",
       "  <thead>\n",
       "    <tr style=\"text-align: right;\">\n",
       "      <th></th>\n",
       "      <th>STORE_NBR</th>\n",
       "      <th>LYLTY_CARD_NBR</th>\n",
       "      <th>TXN_ID</th>\n",
       "      <th>PROD_NBR</th>\n",
       "      <th>PROD_QTY</th>\n",
       "      <th>TOT_SALES</th>\n",
       "    </tr>\n",
       "  </thead>\n",
       "  <tbody>\n",
       "    <tr>\n",
       "      <th>count</th>\n",
       "      <td>249670.000000</td>\n",
       "      <td>2.496700e+05</td>\n",
       "      <td>2.496700e+05</td>\n",
       "      <td>249670.000000</td>\n",
       "      <td>249670.000000</td>\n",
       "      <td>249670.000000</td>\n",
       "    </tr>\n",
       "    <tr>\n",
       "      <th>mean</th>\n",
       "      <td>135.044278</td>\n",
       "      <td>1.355203e+05</td>\n",
       "      <td>1.351234e+05</td>\n",
       "      <td>56.294288</td>\n",
       "      <td>1.907762</td>\n",
       "      <td>7.293966</td>\n",
       "    </tr>\n",
       "    <tr>\n",
       "      <th>std</th>\n",
       "      <td>76.773591</td>\n",
       "      <td>8.065746e+04</td>\n",
       "      <td>7.813155e+04</td>\n",
       "      <td>33.528758</td>\n",
       "      <td>0.657126</td>\n",
       "      <td>3.071796</td>\n",
       "    </tr>\n",
       "    <tr>\n",
       "      <th>min</th>\n",
       "      <td>1.000000</td>\n",
       "      <td>1.000000e+03</td>\n",
       "      <td>1.000000e+00</td>\n",
       "      <td>1.000000</td>\n",
       "      <td>1.000000</td>\n",
       "      <td>1.700000</td>\n",
       "    </tr>\n",
       "    <tr>\n",
       "      <th>25%</th>\n",
       "      <td>70.000000</td>\n",
       "      <td>7.001625e+04</td>\n",
       "      <td>6.757425e+04</td>\n",
       "      <td>27.000000</td>\n",
       "      <td>2.000000</td>\n",
       "      <td>5.700000</td>\n",
       "    </tr>\n",
       "    <tr>\n",
       "      <th>50%</th>\n",
       "      <td>130.000000</td>\n",
       "      <td>1.303600e+05</td>\n",
       "      <td>1.351475e+05</td>\n",
       "      <td>53.000000</td>\n",
       "      <td>2.000000</td>\n",
       "      <td>7.400000</td>\n",
       "    </tr>\n",
       "    <tr>\n",
       "      <th>75%</th>\n",
       "      <td>203.000000</td>\n",
       "      <td>2.030798e+05</td>\n",
       "      <td>2.026338e+05</td>\n",
       "      <td>86.000000</td>\n",
       "      <td>2.000000</td>\n",
       "      <td>8.800000</td>\n",
       "    </tr>\n",
       "    <tr>\n",
       "      <th>max</th>\n",
       "      <td>272.000000</td>\n",
       "      <td>2.373711e+06</td>\n",
       "      <td>2.415841e+06</td>\n",
       "      <td>114.000000</td>\n",
       "      <td>200.000000</td>\n",
       "      <td>650.000000</td>\n",
       "    </tr>\n",
       "  </tbody>\n",
       "</table>\n",
       "</div>"
      ],
      "text/plain": [
       "           STORE_NBR  LYLTY_CARD_NBR        TXN_ID       PROD_NBR  \\\n",
       "count  249670.000000    2.496700e+05  2.496700e+05  249670.000000   \n",
       "mean      135.044278    1.355203e+05  1.351234e+05      56.294288   \n",
       "std        76.773591    8.065746e+04  7.813155e+04      33.528758   \n",
       "min         1.000000    1.000000e+03  1.000000e+00       1.000000   \n",
       "25%        70.000000    7.001625e+04  6.757425e+04      27.000000   \n",
       "50%       130.000000    1.303600e+05  1.351475e+05      53.000000   \n",
       "75%       203.000000    2.030798e+05  2.026338e+05      86.000000   \n",
       "max       272.000000    2.373711e+06  2.415841e+06     114.000000   \n",
       "\n",
       "            PROD_QTY      TOT_SALES  \n",
       "count  249670.000000  249670.000000  \n",
       "mean        1.907762       7.293966  \n",
       "std         0.657126       3.071796  \n",
       "min         1.000000       1.700000  \n",
       "25%         2.000000       5.700000  \n",
       "50%         2.000000       7.400000  \n",
       "75%         2.000000       8.800000  \n",
       "max       200.000000     650.000000  "
      ]
     },
     "execution_count": 30,
     "metadata": {},
     "output_type": "execute_result"
    }
   ],
   "source": [
    "customer_transaction.describe()\n",
    "#outlier in PROD_QTY"
   ]
  },
  {
   "cell_type": "code",
   "execution_count": 31,
   "id": "d49ce5c0",
   "metadata": {},
   "outputs": [
    {
     "data": {
      "text/html": [
       "<div>\n",
       "<style scoped>\n",
       "    .dataframe tbody tr th:only-of-type {\n",
       "        vertical-align: middle;\n",
       "    }\n",
       "\n",
       "    .dataframe tbody tr th {\n",
       "        vertical-align: top;\n",
       "    }\n",
       "\n",
       "    .dataframe thead th {\n",
       "        text-align: right;\n",
       "    }\n",
       "</style>\n",
       "<table border=\"1\" class=\"dataframe\">\n",
       "  <thead>\n",
       "    <tr style=\"text-align: right;\">\n",
       "      <th></th>\n",
       "      <th>DATE</th>\n",
       "      <th>STORE_NBR</th>\n",
       "      <th>LYLTY_CARD_NBR</th>\n",
       "      <th>TXN_ID</th>\n",
       "      <th>PROD_NBR</th>\n",
       "      <th>PROD_NAME</th>\n",
       "      <th>PROD_QTY</th>\n",
       "      <th>TOT_SALES</th>\n",
       "      <th>WEIGHT</th>\n",
       "      <th>BRAND</th>\n",
       "    </tr>\n",
       "  </thead>\n",
       "  <tbody>\n",
       "    <tr>\n",
       "      <th>69762</th>\n",
       "      <td>2018-08-19</td>\n",
       "      <td>226</td>\n",
       "      <td>226000</td>\n",
       "      <td>226201</td>\n",
       "      <td>4</td>\n",
       "      <td>Dorito Corn Chp     Supreme 380g</td>\n",
       "      <td>200</td>\n",
       "      <td>650.0</td>\n",
       "      <td>380</td>\n",
       "      <td>Dorito</td>\n",
       "    </tr>\n",
       "    <tr>\n",
       "      <th>69763</th>\n",
       "      <td>2019-05-20</td>\n",
       "      <td>226</td>\n",
       "      <td>226000</td>\n",
       "      <td>226210</td>\n",
       "      <td>4</td>\n",
       "      <td>Dorito Corn Chp     Supreme 380g</td>\n",
       "      <td>200</td>\n",
       "      <td>650.0</td>\n",
       "      <td>380</td>\n",
       "      <td>Dorito</td>\n",
       "    </tr>\n",
       "  </tbody>\n",
       "</table>\n",
       "</div>"
      ],
      "text/plain": [
       "            DATE  STORE_NBR  LYLTY_CARD_NBR  TXN_ID  PROD_NBR  \\\n",
       "69762 2018-08-19        226          226000  226201         4   \n",
       "69763 2019-05-20        226          226000  226210         4   \n",
       "\n",
       "                              PROD_NAME  PROD_QTY  TOT_SALES WEIGHT   BRAND  \n",
       "69762  Dorito Corn Chp     Supreme 380g       200      650.0    380  Dorito  \n",
       "69763  Dorito Corn Chp     Supreme 380g       200      650.0    380  Dorito  "
      ]
     },
     "execution_count": 31,
     "metadata": {},
     "output_type": "execute_result"
    }
   ],
   "source": [
    "customer_transaction.loc[customer_transaction['PROD_QTY'] == 200]"
   ]
  },
  {
   "cell_type": "code",
   "execution_count": 32,
   "id": "5ab10d97",
   "metadata": {},
   "outputs": [
    {
     "data": {
      "text/html": [
       "<div>\n",
       "<style scoped>\n",
       "    .dataframe tbody tr th:only-of-type {\n",
       "        vertical-align: middle;\n",
       "    }\n",
       "\n",
       "    .dataframe tbody tr th {\n",
       "        vertical-align: top;\n",
       "    }\n",
       "\n",
       "    .dataframe thead th {\n",
       "        text-align: right;\n",
       "    }\n",
       "</style>\n",
       "<table border=\"1\" class=\"dataframe\">\n",
       "  <thead>\n",
       "    <tr style=\"text-align: right;\">\n",
       "      <th></th>\n",
       "      <th>DATE</th>\n",
       "      <th>STORE_NBR</th>\n",
       "      <th>LYLTY_CARD_NBR</th>\n",
       "      <th>TXN_ID</th>\n",
       "      <th>PROD_NBR</th>\n",
       "      <th>PROD_NAME</th>\n",
       "      <th>PROD_QTY</th>\n",
       "      <th>TOT_SALES</th>\n",
       "      <th>WEIGHT</th>\n",
       "      <th>BRAND</th>\n",
       "    </tr>\n",
       "  </thead>\n",
       "  <tbody>\n",
       "    <tr>\n",
       "      <th>69762</th>\n",
       "      <td>2018-08-19</td>\n",
       "      <td>226</td>\n",
       "      <td>226000</td>\n",
       "      <td>226201</td>\n",
       "      <td>4</td>\n",
       "      <td>Dorito Corn Chp     Supreme 380g</td>\n",
       "      <td>200</td>\n",
       "      <td>650.0</td>\n",
       "      <td>380</td>\n",
       "      <td>Dorito</td>\n",
       "    </tr>\n",
       "    <tr>\n",
       "      <th>69763</th>\n",
       "      <td>2019-05-20</td>\n",
       "      <td>226</td>\n",
       "      <td>226000</td>\n",
       "      <td>226210</td>\n",
       "      <td>4</td>\n",
       "      <td>Dorito Corn Chp     Supreme 380g</td>\n",
       "      <td>200</td>\n",
       "      <td>650.0</td>\n",
       "      <td>380</td>\n",
       "      <td>Dorito</td>\n",
       "    </tr>\n",
       "  </tbody>\n",
       "</table>\n",
       "</div>"
      ],
      "text/plain": [
       "            DATE  STORE_NBR  LYLTY_CARD_NBR  TXN_ID  PROD_NBR  \\\n",
       "69762 2018-08-19        226          226000  226201         4   \n",
       "69763 2019-05-20        226          226000  226210         4   \n",
       "\n",
       "                              PROD_NAME  PROD_QTY  TOT_SALES WEIGHT   BRAND  \n",
       "69762  Dorito Corn Chp     Supreme 380g       200      650.0    380  Dorito  \n",
       "69763  Dorito Corn Chp     Supreme 380g       200      650.0    380  Dorito  "
      ]
     },
     "execution_count": 32,
     "metadata": {},
     "output_type": "execute_result"
    }
   ],
   "source": [
    "customer_transaction.loc[customer_transaction['LYLTY_CARD_NBR'] == 226000]"
   ]
  },
  {
   "cell_type": "code",
   "execution_count": 33,
   "id": "1ce5fd69",
   "metadata": {},
   "outputs": [],
   "source": [
    "customer_transaction.drop([69762, 69763], inplace = True )"
   ]
  },
  {
   "cell_type": "code",
   "execution_count": 34,
   "id": "157f9a53",
   "metadata": {},
   "outputs": [
    {
     "data": {
      "text/html": [
       "<div>\n",
       "<style scoped>\n",
       "    .dataframe tbody tr th:only-of-type {\n",
       "        vertical-align: middle;\n",
       "    }\n",
       "\n",
       "    .dataframe tbody tr th {\n",
       "        vertical-align: top;\n",
       "    }\n",
       "\n",
       "    .dataframe thead th {\n",
       "        text-align: right;\n",
       "    }\n",
       "</style>\n",
       "<table border=\"1\" class=\"dataframe\">\n",
       "  <thead>\n",
       "    <tr style=\"text-align: right;\">\n",
       "      <th></th>\n",
       "      <th>STORE_NBR</th>\n",
       "      <th>LYLTY_CARD_NBR</th>\n",
       "      <th>TXN_ID</th>\n",
       "      <th>PROD_NBR</th>\n",
       "      <th>PROD_QTY</th>\n",
       "      <th>TOT_SALES</th>\n",
       "    </tr>\n",
       "  </thead>\n",
       "  <tbody>\n",
       "    <tr>\n",
       "      <th>count</th>\n",
       "      <td>249668.000000</td>\n",
       "      <td>2.496680e+05</td>\n",
       "      <td>2.496680e+05</td>\n",
       "      <td>249668.000000</td>\n",
       "      <td>249668.000000</td>\n",
       "      <td>249668.000000</td>\n",
       "    </tr>\n",
       "    <tr>\n",
       "      <th>mean</th>\n",
       "      <td>135.043550</td>\n",
       "      <td>1.355196e+05</td>\n",
       "      <td>1.351227e+05</td>\n",
       "      <td>56.294707</td>\n",
       "      <td>1.906175</td>\n",
       "      <td>7.288817</td>\n",
       "    </tr>\n",
       "    <tr>\n",
       "      <th>std</th>\n",
       "      <td>76.773467</td>\n",
       "      <td>8.065737e+04</td>\n",
       "      <td>7.813144e+04</td>\n",
       "      <td>33.528566</td>\n",
       "      <td>0.342744</td>\n",
       "      <td>2.475279</td>\n",
       "    </tr>\n",
       "    <tr>\n",
       "      <th>min</th>\n",
       "      <td>1.000000</td>\n",
       "      <td>1.000000e+03</td>\n",
       "      <td>1.000000e+00</td>\n",
       "      <td>1.000000</td>\n",
       "      <td>1.000000</td>\n",
       "      <td>1.700000</td>\n",
       "    </tr>\n",
       "    <tr>\n",
       "      <th>25%</th>\n",
       "      <td>70.000000</td>\n",
       "      <td>7.001600e+04</td>\n",
       "      <td>6.757375e+04</td>\n",
       "      <td>27.000000</td>\n",
       "      <td>2.000000</td>\n",
       "      <td>5.700000</td>\n",
       "    </tr>\n",
       "    <tr>\n",
       "      <th>50%</th>\n",
       "      <td>130.000000</td>\n",
       "      <td>1.303595e+05</td>\n",
       "      <td>1.351465e+05</td>\n",
       "      <td>53.000000</td>\n",
       "      <td>2.000000</td>\n",
       "      <td>7.400000</td>\n",
       "    </tr>\n",
       "    <tr>\n",
       "      <th>75%</th>\n",
       "      <td>203.000000</td>\n",
       "      <td>2.030790e+05</td>\n",
       "      <td>2.026322e+05</td>\n",
       "      <td>86.000000</td>\n",
       "      <td>2.000000</td>\n",
       "      <td>8.800000</td>\n",
       "    </tr>\n",
       "    <tr>\n",
       "      <th>max</th>\n",
       "      <td>272.000000</td>\n",
       "      <td>2.373711e+06</td>\n",
       "      <td>2.415841e+06</td>\n",
       "      <td>114.000000</td>\n",
       "      <td>5.000000</td>\n",
       "      <td>29.500000</td>\n",
       "    </tr>\n",
       "  </tbody>\n",
       "</table>\n",
       "</div>"
      ],
      "text/plain": [
       "           STORE_NBR  LYLTY_CARD_NBR        TXN_ID       PROD_NBR  \\\n",
       "count  249668.000000    2.496680e+05  2.496680e+05  249668.000000   \n",
       "mean      135.043550    1.355196e+05  1.351227e+05      56.294707   \n",
       "std        76.773467    8.065737e+04  7.813144e+04      33.528566   \n",
       "min         1.000000    1.000000e+03  1.000000e+00       1.000000   \n",
       "25%        70.000000    7.001600e+04  6.757375e+04      27.000000   \n",
       "50%       130.000000    1.303595e+05  1.351465e+05      53.000000   \n",
       "75%       203.000000    2.030790e+05  2.026322e+05      86.000000   \n",
       "max       272.000000    2.373711e+06  2.415841e+06     114.000000   \n",
       "\n",
       "            PROD_QTY      TOT_SALES  \n",
       "count  249668.000000  249668.000000  \n",
       "mean        1.906175       7.288817  \n",
       "std         0.342744       2.475279  \n",
       "min         1.000000       1.700000  \n",
       "25%         2.000000       5.700000  \n",
       "50%         2.000000       7.400000  \n",
       "75%         2.000000       8.800000  \n",
       "max         5.000000      29.500000  "
      ]
     },
     "execution_count": 34,
     "metadata": {},
     "output_type": "execute_result"
    }
   ],
   "source": [
    "customer_transaction.describe() "
   ]
  },
  {
   "cell_type": "markdown",
   "id": "d20a4090",
   "metadata": {},
   "source": [
    "### Finding Missing Date"
   ]
  },
  {
   "cell_type": "code",
   "execution_count": 35,
   "id": "910484f1",
   "metadata": {},
   "outputs": [
    {
     "name": "stdout",
     "output_type": "stream",
     "text": [
      "            STORE_NBR  LYLTY_CARD_NBR    TXN_ID  PROD_NBR  PROD_QTY  TOT_SALES\n",
      "DATE                                                                          \n",
      "2018-07-01      90280        90389636  90234109     38769      1289     4962.9\n",
      "2018-07-02      87130        87234845  87111526     37168      1274     4938.1\n",
      "2018-07-03      94490        94603086  94643683     39385      1315     5005.7\n",
      "2018-07-04      93505        93616386  93525068     38172      1306     5020.9\n",
      "2018-07-05      89818        89922491  89888989     39337      1264     4698.2\n",
      "...               ...             ...       ...       ...       ...        ...\n",
      "2019-06-26      90276        91800865  90104449     37302      1277     4898.3\n",
      "2019-06-27      87757        87871278  87769362     37605      1286     4967.9\n",
      "2019-06-28      95271        96087160  95320362     39070      1312     4940.4\n",
      "2019-06-29      94783        97797369  94715557     38048      1364     5201.2\n",
      "2019-06-30      95933        96045214  95913814     40400      1346     5118.8\n",
      "\n",
      "[364 rows x 6 columns]\n"
     ]
    }
   ],
   "source": [
    "groupby_date = customer_transaction.groupby('DATE').sum()\n",
    "print(groupby_date)\n",
    "\n",
    "\n",
    "\n",
    "\n"
   ]
  },
  {
   "cell_type": "code",
   "execution_count": 36,
   "id": "665237f8",
   "metadata": {},
   "outputs": [
    {
     "name": "stdout",
     "output_type": "stream",
     "text": [
      "Due to the public holiday on Christmas Day, there are no transactions on 2018-12-25 00:00:00\n"
     ]
    }
   ],
   "source": [
    "#missing date\n",
    "missing_date = pd.date_range(start = '2018-07-01', end = '2019-06-30' ).difference(groupby_date.index)\n",
    "print('Due to the public holiday on Christmas Day, there are no transactions on {}'\n",
    "      .format(missing_date[0]))"
   ]
  },
  {
   "cell_type": "code",
   "execution_count": 37,
   "id": "f6ea9c90",
   "metadata": {},
   "outputs": [
    {
     "data": {
      "image/png": "[encoded data removed]",
      "text/plain": [
       "<Figure size 720x720 with 1 Axes>"
      ]
     },
     "metadata": {
      "needs_background": "light"
     },
     "output_type": "display_data"
    }
   ],
   "source": [
    "plt.rcParams['figure.figsize'] = (10,10)\n",
    "Products_sold = groupby_date['PROD_QTY']\n",
    "\n",
    "sns.lineplot(data = Products_sold)\n",
    "plt.title('PRODUCTS SOLD OVER TIME',fontsize=20 )\n",
    "plt.show()\n"
   ]
  },
  {
   "cell_type": "code",
   "execution_count": 38,
   "id": "b40f02e3",
   "metadata": {},
   "outputs": [
    {
     "data": {
      "image/png": "[encoded data removed]",
      "text/plain": [
       "<Figure size 1440x720 with 1 Axes>"
      ]
     },
     "metadata": {
      "needs_background": "light"
     },
     "output_type": "display_data"
    }
   ],
   "source": [
    "#Pack Size\n",
    "groupby_weight = customer_transaction.groupby('WEIGHT',as_index = False).sum()\n",
    "#print(groupby_weight)\n",
    "plt.rcParams['figure.figsize'] = (20,10)\n",
    "sns.barplot(data = groupby_weight, x = groupby_weight['WEIGHT'], y=groupby_weight['PROD_QTY'])\n",
    "plt.show()"
   ]
  },
  {
   "cell_type": "markdown",
   "id": "30789cd9",
   "metadata": {},
   "source": [
    "### Merging two cleaned Dataset "
   ]
  },
  {
   "cell_type": "code",
   "execution_count": 39,
   "id": "9004c904",
   "metadata": {},
   "outputs": [
    {
     "data": {
      "text/html": [
       "<div>\n",
       "<style scoped>\n",
       "    .dataframe tbody tr th:only-of-type {\n",
       "        vertical-align: middle;\n",
       "    }\n",
       "\n",
       "    .dataframe tbody tr th {\n",
       "        vertical-align: top;\n",
       "    }\n",
       "\n",
       "    .dataframe thead th {\n",
       "        text-align: right;\n",
       "    }\n",
       "</style>\n",
       "<table border=\"1\" class=\"dataframe\">\n",
       "  <thead>\n",
       "    <tr style=\"text-align: right;\">\n",
       "      <th></th>\n",
       "      <th>DATE</th>\n",
       "      <th>STORE_NBR</th>\n",
       "      <th>LYLTY_CARD_NBR</th>\n",
       "      <th>TXN_ID</th>\n",
       "      <th>PROD_NBR</th>\n",
       "      <th>PROD_NAME</th>\n",
       "      <th>PROD_QTY</th>\n",
       "      <th>TOT_SALES</th>\n",
       "      <th>WEIGHT</th>\n",
       "      <th>BRAND</th>\n",
       "      <th>LIFESTAGE</th>\n",
       "      <th>PREMIUM_CUSTOMER</th>\n",
       "    </tr>\n",
       "  </thead>\n",
       "  <tbody>\n",
       "    <tr>\n",
       "      <th>0</th>\n",
       "      <td>2018-10-17</td>\n",
       "      <td>1</td>\n",
       "      <td>1000</td>\n",
       "      <td>1</td>\n",
       "      <td>5</td>\n",
       "      <td>Natural Chip        Compny SeaSalt175g</td>\n",
       "      <td>2</td>\n",
       "      <td>6.0</td>\n",
       "      <td>175</td>\n",
       "      <td>NCC</td>\n",
       "      <td>YOUNG SINGLES/COUPLES</td>\n",
       "      <td>Premium</td>\n",
       "    </tr>\n",
       "    <tr>\n",
       "      <th>1</th>\n",
       "      <td>2019-05-14</td>\n",
       "      <td>1</td>\n",
       "      <td>1307</td>\n",
       "      <td>348</td>\n",
       "      <td>66</td>\n",
       "      <td>CCs Nacho Cheese    175g</td>\n",
       "      <td>3</td>\n",
       "      <td>6.3</td>\n",
       "      <td>175</td>\n",
       "      <td>CCs</td>\n",
       "      <td>MIDAGE SINGLES/COUPLES</td>\n",
       "      <td>Budget</td>\n",
       "    </tr>\n",
       "    <tr>\n",
       "      <th>2</th>\n",
       "      <td>2018-11-10</td>\n",
       "      <td>1</td>\n",
       "      <td>1307</td>\n",
       "      <td>346</td>\n",
       "      <td>96</td>\n",
       "      <td>WW Original Stacked Chips 160g</td>\n",
       "      <td>2</td>\n",
       "      <td>3.8</td>\n",
       "      <td>160</td>\n",
       "      <td>Woolworths</td>\n",
       "      <td>MIDAGE SINGLES/COUPLES</td>\n",
       "      <td>Budget</td>\n",
       "    </tr>\n",
       "    <tr>\n",
       "      <th>3</th>\n",
       "      <td>2019-03-09</td>\n",
       "      <td>1</td>\n",
       "      <td>1307</td>\n",
       "      <td>347</td>\n",
       "      <td>54</td>\n",
       "      <td>CCs Original 175g</td>\n",
       "      <td>1</td>\n",
       "      <td>2.1</td>\n",
       "      <td>175</td>\n",
       "      <td>CCs</td>\n",
       "      <td>MIDAGE SINGLES/COUPLES</td>\n",
       "      <td>Budget</td>\n",
       "    </tr>\n",
       "    <tr>\n",
       "      <th>4</th>\n",
       "      <td>2019-05-20</td>\n",
       "      <td>1</td>\n",
       "      <td>1343</td>\n",
       "      <td>383</td>\n",
       "      <td>61</td>\n",
       "      <td>Smiths Crinkle Cut  Chips Chicken 170g</td>\n",
       "      <td>2</td>\n",
       "      <td>2.9</td>\n",
       "      <td>170</td>\n",
       "      <td>Smiths</td>\n",
       "      <td>MIDAGE SINGLES/COUPLES</td>\n",
       "      <td>Budget</td>\n",
       "    </tr>\n",
       "  </tbody>\n",
       "</table>\n",
       "</div>"
      ],
      "text/plain": [
       "        DATE  STORE_NBR  LYLTY_CARD_NBR  TXN_ID  PROD_NBR  \\\n",
       "0 2018-10-17          1            1000       1         5   \n",
       "1 2019-05-14          1            1307     348        66   \n",
       "2 2018-11-10          1            1307     346        96   \n",
       "3 2019-03-09          1            1307     347        54   \n",
       "4 2019-05-20          1            1343     383        61   \n",
       "\n",
       "                                PROD_NAME  PROD_QTY  TOT_SALES WEIGHT  \\\n",
       "0  Natural Chip        Compny SeaSalt175g         2        6.0    175   \n",
       "1                CCs Nacho Cheese    175g         3        6.3    175   \n",
       "2          WW Original Stacked Chips 160g         2        3.8    160   \n",
       "3                       CCs Original 175g         1        2.1    175   \n",
       "4  Smiths Crinkle Cut  Chips Chicken 170g         2        2.9    170   \n",
       "\n",
       "        BRAND               LIFESTAGE PREMIUM_CUSTOMER  \n",
       "0         NCC   YOUNG SINGLES/COUPLES          Premium  \n",
       "1         CCs  MIDAGE SINGLES/COUPLES           Budget  \n",
       "2  Woolworths  MIDAGE SINGLES/COUPLES           Budget  \n",
       "3         CCs  MIDAGE SINGLES/COUPLES           Budget  \n",
       "4      Smiths  MIDAGE SINGLES/COUPLES           Budget  "
      ]
     },
     "execution_count": 39,
     "metadata": {},
     "output_type": "execute_result"
    }
   ],
   "source": [
    "data = pd.merge(customer_transaction, purchase_behaviour,on=['LYLTY_CARD_NBR','LYLTY_CARD_NBR'])\n",
    "data.head()"
   ]
  },
  {
   "cell_type": "code",
   "execution_count": 40,
   "id": "45716a6d",
   "metadata": {},
   "outputs": [],
   "source": [
    "data.to_excel('/Users/ankurbedi/Documents/df.xlsx', index = False)"
   ]
  },
  {
   "cell_type": "code",
   "execution_count": 41,
   "id": "f8d4545c",
   "metadata": {},
   "outputs": [
    {
     "data": {
      "text/plain": [
       "<AxesSubplot:>"
      ]
     },
     "execution_count": 41,
     "metadata": {},
     "output_type": "execute_result"
    },
    {
     "data": {
      "image/png": "[encoded data removed]",
      "text/plain": [
       "<Figure size 1440x720 with 1 Axes>"
      ]
     },
     "metadata": {
      "needs_background": "light"
     },
     "output_type": "display_data"
    }
   ],
   "source": [
    "#No null values\n",
    "fig, ax = plt.subplots(figsize=(20,10)) \n",
    "sns.heatmap(data.isnull(),yticklabels = False, ax=ax, cbar=False)"
   ]
  },
  {
   "cell_type": "code",
   "execution_count": 42,
   "id": "a3f13cd4",
   "metadata": {},
   "outputs": [
    {
     "name": "stdout",
     "output_type": "stream",
     "text": [
      "<class 'pandas.core.frame.DataFrame'>\n",
      "Int64Index: 249668 entries, 0 to 249667\n",
      "Data columns (total 12 columns):\n",
      " #   Column            Non-Null Count   Dtype         \n",
      "---  ------            --------------   -----         \n",
      " 0   DATE              249668 non-null  datetime64[ns]\n",
      " 1   STORE_NBR         249668 non-null  int64         \n",
      " 2   LYLTY_CARD_NBR    249668 non-null  int64         \n",
      " 3   TXN_ID            249668 non-null  int64         \n",
      " 4   PROD_NBR          249668 non-null  int64         \n",
      " 5   PROD_NAME         249668 non-null  object        \n",
      " 6   PROD_QTY          249668 non-null  int64         \n",
      " 7   TOT_SALES         249668 non-null  float64       \n",
      " 8   WEIGHT            249668 non-null  object        \n",
      " 9   BRAND             249668 non-null  object        \n",
      " 10  LIFESTAGE         249668 non-null  object        \n",
      " 11  PREMIUM_CUSTOMER  249668 non-null  object        \n",
      "dtypes: datetime64[ns](1), float64(1), int64(5), object(5)\n",
      "memory usage: 24.8+ MB\n"
     ]
    }
   ],
   "source": [
    "data.info()"
   ]
  },
  {
   "cell_type": "markdown",
   "id": "cfe114c7",
   "metadata": {},
   "source": [
    "## Data Analysis on Customer Segment "
   ]
  },
  {
   "cell_type": "markdown",
   "id": "525aa0a1",
   "metadata": {},
   "source": [
    "### Q: Who spends the most on chips?"
   ]
  },
  {
   "cell_type": "code",
   "execution_count": 43,
   "id": "dbd4be2a",
   "metadata": {},
   "outputs": [
    {
     "data": {
      "image/png": "[encoded data removed]",
      "text/plain": [
       "<Figure size 1440x720 with 1 Axes>"
      ]
     },
     "metadata": {
      "needs_background": "light"
     },
     "output_type": "display_data"
    }
   ],
   "source": [
    "x = data.groupby(['LIFESTAGE','PREMIUM_CUSTOMER'],as_index = False).sum()\n",
    "sns.barplot(x = x['LIFESTAGE'], y = x['TOT_SALES'], hue = x['PREMIUM_CUSTOMER'])\n",
    "plt.title('TOTAL SALES BY LIFESTAGE AND PREMIUM_CUSTOMER',fontsize=20 )\n",
    "plt.show()"
   ]
  },
  {
   "cell_type": "code",
   "execution_count": 44,
   "id": "e16c7f69",
   "metadata": {},
   "outputs": [
    {
     "data": {
      "image/png": "[encoded data removed]",
      "text/plain": [
       "<Figure size 1440x720 with 1 Axes>"
      ]
     },
     "metadata": {
      "needs_background": "light"
     },
     "output_type": "display_data"
    }
   ],
   "source": [
    "sns.countplot(data=data, x='LIFESTAGE', hue = 'PREMIUM_CUSTOMER', order=data['LIFESTAGE'].value_counts().index)\n",
    "plt.title('NUMBER OF CUSTOMERS BY LIFESTAGE AND PREMIUM_CUSTOMER',fontsize=20 )\n",
    "plt.show()\n"
   ]
  },
  {
   "cell_type": "code",
   "execution_count": 45,
   "id": "28ae49a5",
   "metadata": {},
   "outputs": [
    {
     "data": {
      "image/png": "[encoded data removed]",
      "text/plain": [
       "<Figure size 1440x720 with 1 Axes>"
      ]
     },
     "metadata": {
      "needs_background": "light"
     },
     "output_type": "display_data"
    }
   ],
   "source": [
    "x = data.groupby(['LIFESTAGE','PREMIUM_CUSTOMER'],as_index = False).mean()\n",
    "sns.barplot(x = x['LIFESTAGE'], y = x['PROD_QTY'], hue = x['PREMIUM_CUSTOMER'])\n",
    "plt.title('AVERAGE UNITS SOLD BY LIFESTAGE AND PREMIUM_CUSTOMER',fontsize=20 )\n",
    "plt.show()"
   ]
  },
  {
   "cell_type": "code",
   "execution_count": 46,
   "id": "a34144d2",
   "metadata": {},
   "outputs": [
    {
     "data": {
      "image/png": "[encoded data removed]",
      "text/plain": [
       "<Figure size 1440x720 with 1 Axes>"
      ]
     },
     "metadata": {
      "needs_background": "light"
     },
     "output_type": "display_data"
    }
   ],
   "source": [
    "x = data.groupby(['LIFESTAGE','PREMIUM_CUSTOMER'],as_index = False).mean()\n",
    "sns.barplot(x = x['LIFESTAGE'], y = x['TOT_SALES'], hue = x['PREMIUM_CUSTOMER'])\n",
    "plt.title('AVERAGE PRICE PER UNIT BY LIFESTAGE AND PREMIUM_CUSTOMER',fontsize=20 )\n",
    "plt.show()"
   ]
  },
  {
   "cell_type": "markdown",
   "id": "a4d11b26",
   "metadata": {},
   "source": [
    "### Independent t-test between mainstream vs premium and budget midage and young singles and couples"
   ]
  },
  {
   "cell_type": "code",
   "execution_count": 47,
   "id": "ec0bac12",
   "metadata": {},
   "outputs": [],
   "source": [
    "price_mainstream = data.loc[(data['LIFESTAGE']=='YOUNG SINGLES/COUPLES') & (data['PREMIUM_CUSTOMER']=='Mainstream')|\n",
    "                            (data['LIFESTAGE']=='MIDAGE SINGLES/COUPLES')& (data['PREMIUM_CUSTOMER']=='Mainstream'),\n",
    "                            ['TOT_SALES']]\n",
    "price_premium_budget = data.loc[(data['LIFESTAGE']=='YOUNG SINGLES/COUPLES') & (data['PREMIUM_CUSTOMER']=='Premium')|(data['PREMIUM_CUSTOMER']=='Budget')|\n",
    "                            (data['LIFESTAGE']=='MIDAGE SINGLES/COUPLES')& (data['PREMIUM_CUSTOMER']=='Premium')|(data['PREMIUM_CUSTOMER']=='Budget'),\n",
    "                            ['TOT_SALES']]"
   ]
  },
  {
   "cell_type": "code",
   "execution_count": 48,
   "id": "b94a1bf2",
   "metadata": {},
   "outputs": [
    {
     "data": {
      "text/plain": [
       "Ttest_indResult(statistic=array([21.87059469]), pvalue=array([7.63264716e-106]))"
      ]
     },
     "execution_count": 48,
     "metadata": {},
     "output_type": "execute_result"
    }
   ],
   "source": [
    "from scipy import stats\n",
    "stats.ttest_ind(price_mainstream,price_premium_budget)"
   ]
  },
  {
   "cell_type": "markdown",
   "id": "77372e81",
   "metadata": {},
   "source": [
    "The t-test result generated a p-value of [7.63264716e-106], meaning the unit price for mainstream, young anf mid-age singles and couples are significantly higher than that of budget or premium, young and midage singles and couples."
   ]
  },
  {
   "cell_type": "markdown",
   "id": "353b4570",
   "metadata": {},
   "source": [
    "### Mainstream Young/Singles customer segment Analysis"
   ]
  },
  {
   "cell_type": "code",
   "execution_count": 86,
   "id": "2e779bbb",
   "metadata": {},
   "outputs": [],
   "source": [
    "mainstream_young_singles = data.loc[(data['LIFESTAGE']=='YOUNG SINGLES/COUPLES') & \n",
    "                                    (data['PREMIUM_CUSTOMER']=='Mainstream'),\n",
    "                                    ('BRAND', 'PROD_QTY', 'LIFESTAGE', 'WEIGHT')]\n",
    "mainstream_young_singles_brand = mainstream_young_singles.groupby('BRAND',as_index = False).sum().sort_values(['PROD_QTY'])"
   ]
  },
  {
   "cell_type": "code",
   "execution_count": 87,
   "id": "d964c1f8",
   "metadata": {},
   "outputs": [
    {
     "data": {
      "image/png": "[encoded data removed]",
      "text/plain": [
       "<Figure size 1440x720 with 1 Axes>"
      ]
     },
     "metadata": {
      "needs_background": "light"
     },
     "output_type": "display_data"
    }
   ],
   "source": [
    "sns.barplot(x = mainstream_young_singles_brand['BRAND'], y = mainstream_young_singles_brand['PROD_QTY'])\n",
    "plt.title('Brand Preference for Mainstream Young/Singles',fontsize=20 )\n",
    "plt.show()"
   ]
  },
  {
   "cell_type": "code",
   "execution_count": 88,
   "id": "8ec0fe81",
   "metadata": {},
   "outputs": [],
   "source": [
    "mainstream_young_singles_size = mainstream_young_singles.groupby('WEIGHT',as_index = False).sum().sort_values(['PROD_QTY'])"
   ]
  },
  {
   "cell_type": "code",
   "execution_count": 89,
   "id": "4efc54d6",
   "metadata": {},
   "outputs": [
    {
     "data": {
      "image/png": "[encoded data removed]",
      "text/plain": [
       "<Figure size 1440x720 with 1 Axes>"
      ]
     },
     "metadata": {
      "needs_background": "light"
     },
     "output_type": "display_data"
    }
   ],
   "source": [
    "sns.barplot(x = am['WEIGHT'], y = a['PROD_QTY'])\n",
    "plt.title('Size Preference for Mainstream Young/Singles',fontsize=20 )\n",
    "plt.show()"
   ]
  },
  {
   "cell_type": "code",
   "execution_count": null,
   "id": "7eae538e",
   "metadata": {},
   "outputs": [],
   "source": []
  }
 ],
 "metadata": {
  "kernelspec": {
   "display_name": "Python 3",
   "language": "python",
   "name": "python3"
  },
  "language_info": {
   "codemirror_mode": {
    "name": "ipython",
    "version": 3
   },
   "file_extension": ".py",
   "mimetype": "text/x-python",
   "name": "python",
   "nbconvert_exporter": "python",
   "pygments_lexer": "ipython3",
   "version": "3.8.8"
  }
 },
 "nbformat": 4,
 "nbformat_minor": 5
}
